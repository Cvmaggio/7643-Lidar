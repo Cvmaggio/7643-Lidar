{
 "cells": [
  {
   "cell_type": "markdown",
   "metadata": {},
   "source": [
    "Download"
   ]
  },
  {
   "cell_type": "code",
   "execution_count": null,
   "metadata": {},
   "outputs": [],
   "source": [
    "from utils.utils_cifar import get_train_data_loader, get_test_data_loader, classes\n",
    "\n",
    "trainloader = get_train_data_loader(\"/tmp/lidar\")\n",
    "testloader = get_test_data_loader(\"/tmp/lidar\")"
   ]
  },
  {
   "cell_type": "code",
   "execution_count": null,
   "metadata": {},
   "outputs": [],
   "source": [
    "# There should be the original tar file along with the extracted data directory. (cifar-10-python.tar.gz, cifar-10-batches-py)\n",
    "! ls /tmp/lidar"
   ]
  }
 ],
 "metadata": {
  "language_info": {
   "name": "python"
  },
  "orig_nbformat": 4
 },
 "nbformat": 4,
 "nbformat_minor": 2
}
