{
 "cells": [
  {
   "cell_type": "code",
   "execution_count": 17,
   "metadata": {},
   "outputs": [
    {
     "name": "stderr",
     "output_type": "stream",
     "text": [
      "WARNING! Your password will be stored unencrypted in /home/chase/.docker/config.json.\n",
      "Configure a credential helper to remove this warning. See\n",
      "https://docs.docker.com/engine/reference/commandline/login/#credentials-store\n",
      "\n"
     ]
    },
    {
     "name": "stdout",
     "output_type": "stream",
     "text": [
      "Login Succeeded\n"
     ]
    },
    {
     "name": "stderr",
     "output_type": "stream",
     "text": [
      "WARNING! Your password will be stored unencrypted in /home/chase/.docker/config.json.\n",
      "Configure a credential helper to remove this warning. See\n",
      "https://docs.docker.com/engine/reference/commandline/login/#credentials-store\n",
      "\n"
     ]
    },
    {
     "name": "stdout",
     "output_type": "stream",
     "text": [
      "Login Succeeded\n"
     ]
    },
    {
     "name": "stderr",
     "output_type": "stream",
     "text": [
      "WARNING! Your password will be stored unencrypted in /home/chase/.docker/config.json.\n",
      "Configure a credential helper to remove this warning. See\n",
      "https://docs.docker.com/engine/reference/commandline/login/#credentials-store\n",
      "\n"
     ]
    },
    {
     "name": "stdout",
     "output_type": "stream",
     "text": [
      "Login Succeeded\n",
      "Sending build context to Docker daemon  11.78kB\n",
      "Step 1/6 : ARG REGION=us-west-2\n",
      "Step 2/6 : FROM 520713654638.dkr.ecr.$REGION.amazonaws.com/sagemaker-pytorch:0.4.0-cpu-py3\n",
      " ---> 11e92f8d88a4\n",
      "Step 3/6 : ENV PATH=\"/opt/ml/code:${PATH}\"\n",
      " ---> Using cache\n",
      " ---> 41d0af3143c2\n",
      "Step 4/6 : COPY /lidar /opt/ml/code\n",
      " ---> Using cache\n",
      " ---> e733ea10ca8a\n",
      "Step 5/6 : ENV SAGEMAKER_SUBMIT_DIRECTORY /opt/ml/code\n",
      " ---> Using cache\n",
      " ---> 8fde20fae334\n",
      "Step 6/6 : ENV SAGEMAKER_PROGRAM lidar.py\n",
      " ---> Using cache\n",
      " ---> fbd993af7462\n",
      "Successfully built fbd993af7462\n",
      "Successfully tagged lidar:latest\n",
      "The push refers to repository [224863548990.dkr.ecr.us-east-1.amazonaws.com/lidar]\n",
      "14fdc35e071e: Preparing\n",
      "1e95f2314d9e: Preparing\n",
      "6925e67bc96f: Preparing\n",
      "92767847d831: Preparing\n",
      "c6618b7eae39: Preparing\n",
      "7088d75c498e: Preparing\n",
      "ee905f515781: Preparing\n",
      "9fb660580ee6: Preparing\n",
      "ebf8767b42f1: Preparing\n",
      "3db5746c911a: Preparing\n",
      "819a824caf70: Preparing\n",
      "647265b9d8bc: Preparing\n",
      "41c002c8a6fd: Preparing\n",
      "ee905f515781: Waiting\n",
      "41c002c8a6fd: Waiting\n",
      "9fb660580ee6: Waiting\n",
      "ebf8767b42f1: Waiting\n",
      "819a824caf70: Waiting\n",
      "3db5746c911a: Waiting\n",
      "647265b9d8bc: Waiting\n",
      "7088d75c498e: Waiting\n",
      "6925e67bc96f: Layer already exists\n",
      "c6618b7eae39: Layer already exists\n",
      "1e95f2314d9e: Layer already exists\n",
      "14fdc35e071e: Layer already exists\n",
      "92767847d831: Layer already exists\n",
      "ee905f515781: Layer already exists\n",
      "3db5746c911a: Layer already exists\n",
      "9fb660580ee6: Layer already exists\n",
      "ebf8767b42f1: Layer already exists\n",
      "7088d75c498e: Layer already exists\n",
      "819a824caf70: Layer already exists\n",
      "647265b9d8bc: Layer already exists\n",
      "41c002c8a6fd: Layer already exists\n",
      "latest: digest: sha256:683447c3484c9b9fb6e58e516d647e3fca86e07264c9c8218ecaf99d1fd77506 size: 3036\n"
     ]
    },
    {
     "data": {
      "text/plain": [
       "0"
      ]
     },
     "execution_count": 17,
     "metadata": {},
     "output_type": "execute_result"
    }
   ],
   "source": [
    "import subprocess\n",
    "subprocess.call(['sh','./utils/buildContainer.sh'])\n"
   ]
  }
 ],
 "metadata": {
  "interpreter": {
   "hash": "5f55298e5a17481f3a158394b5e9ca22e2be0f13f6324dcd6e1a2d22c8a17def"
  },
  "kernelspec": {
   "display_name": "Python 3.9.7 ('cs7643-a1')",
   "language": "python",
   "name": "python3"
  },
  "language_info": {
   "codemirror_mode": {
    "name": "ipython",
    "version": 3
   },
   "file_extension": ".py",
   "mimetype": "text/x-python",
   "name": "python",
   "nbconvert_exporter": "python",
   "pygments_lexer": "ipython3",
   "version": "3.9.7"
  },
  "orig_nbformat": 4
 },
 "nbformat": 4,
 "nbformat_minor": 2
}
