{
 "cells": [
  {
   "cell_type": "code",
   "execution_count": 2,
   "metadata": {},
   "outputs": [
    {
     "name": "stdout",
     "output_type": "stream",
     "text": [
      "224863548990\n"
     ]
    }
   ],
   "source": [
    "import boto3\n",
    "\n",
    "sts_client = boto3.client(\"sts\")\n",
    "account_id = sts_client.get_caller_identity()[\"Account\"]\n",
    "my_session = boto3.session.Session()\n",
    "region = my_session.region_name\n",
    "print(account_id)"
   ]
  },
  {
   "cell_type": "code",
   "execution_count": 3,
   "metadata": {},
   "outputs": [],
   "source": [
    "prefix = \"lidar-data\"\n",
    "bucket = \"sagemaker-\"+str(region)+\"-\"+str(account_id)"
   ]
  },
  {
   "cell_type": "code",
   "execution_count": 4,
   "metadata": {},
   "outputs": [
    {
     "name": "stderr",
     "output_type": "stream",
     "text": [
      "Couldn't call 'get_role' to get Role ARN from role name sagemaker_local to get Role path.\n"
     ]
    }
   ],
   "source": [
    "from sagemaker import get_execution_role\n",
    "try: \n",
    "    role = get_execution_role()\n",
    "except ValueError:\n",
    "    iam = boto3.client('iam')\n",
    "    role = iam.get_role(RoleName='sagemaker_role')['Role']['Arn']"
   ]
  },
  {
   "cell_type": "code",
   "execution_count": 5,
   "metadata": {},
   "outputs": [],
   "source": [
    "client = boto3.client(\"sts\")\n",
    "account = client.get_caller_identity()[\"Account\"]\n",
    "\n",
    "region = my_session.region_name\n",
    "\n",
    "algorithm_name = \"lidar\"\n",
    "\n",
    "ecr_image = \"{}.dkr.ecr.{}.amazonaws.com/{}:latest\".format(account, region, algorithm_name)"
   ]
  },
  {
   "cell_type": "code",
   "execution_count": 6,
   "metadata": {},
   "outputs": [],
   "source": [
    "data_location = \"s3://{}/{}\".format(bucket,prefix) "
   ]
  },
  {
   "cell_type": "code",
   "execution_count": 7,
   "metadata": {},
   "outputs": [
    {
     "name": "stderr",
     "output_type": "stream",
     "text": [
      "train_instance_count has been renamed in sagemaker>=2.\n",
      "See: https://sagemaker.readthedocs.io/en/stable/v2.html for details.\n",
      "train_instance_type has been renamed in sagemaker>=2.\n",
      "See: https://sagemaker.readthedocs.io/en/stable/v2.html for details.\n"
     ]
    },
    {
     "ename": "ClientError",
     "evalue": "An error occurred (ValidationException) when calling the CreateTrainingJob operation: No S3 objects found under S3 URL \"s3://sagemaker-us-east-1224863548990/lidar-data\" given in input data source. Please ensure that the bucket exists in the selected region (us-east-1), that objects exist under that S3 prefix, and that the role \"arn:aws:iam::224863548990:role/sagemaker_role\" has \"s3:ListBucket\" permissions on bucket \"sagemaker-us-east-1224863548990\". Error message from S3: The specified bucket does not exist",
     "output_type": "error",
     "traceback": [
      "\u001b[0;31m---------------------------------------------------------------------------\u001b[0m",
      "\u001b[0;31mClientError\u001b[0m                               Traceback (most recent call last)",
      "\u001b[1;32m/home/chase/7643-Lidar/remoteDevelopment.ipynb Cell 6'\u001b[0m in \u001b[0;36m<cell line: 15>\u001b[0;34m()\u001b[0m\n\u001b[1;32m      <a href='vscode-notebook-cell:/home/chase/7643-Lidar/remoteDevelopment.ipynb#ch0000005?line=4'>5</a>\u001b[0m instance_type \u001b[39m=\u001b[39m \u001b[39m\"\u001b[39m\u001b[39mml.m4.xlarge\u001b[39m\u001b[39m\"\u001b[39m\n\u001b[1;32m      <a href='vscode-notebook-cell:/home/chase/7643-Lidar/remoteDevelopment.ipynb#ch0000005?line=6'>7</a>\u001b[0m estimator \u001b[39m=\u001b[39m Estimator(\n\u001b[1;32m      <a href='vscode-notebook-cell:/home/chase/7643-Lidar/remoteDevelopment.ipynb#ch0000005?line=7'>8</a>\u001b[0m     role\u001b[39m=\u001b[39mrole,\n\u001b[1;32m      <a href='vscode-notebook-cell:/home/chase/7643-Lidar/remoteDevelopment.ipynb#ch0000005?line=8'>9</a>\u001b[0m     train_instance_count\u001b[39m=\u001b[39m\u001b[39m1\u001b[39m,\n\u001b[0;32m   (...)\u001b[0m\n\u001b[1;32m     <a href='vscode-notebook-cell:/home/chase/7643-Lidar/remoteDevelopment.ipynb#ch0000005?line=11'>12</a>\u001b[0m     hyperparameters\u001b[39m=\u001b[39mhyperparameters,\n\u001b[1;32m     <a href='vscode-notebook-cell:/home/chase/7643-Lidar/remoteDevelopment.ipynb#ch0000005?line=12'>13</a>\u001b[0m )\n\u001b[0;32m---> <a href='vscode-notebook-cell:/home/chase/7643-Lidar/remoteDevelopment.ipynb#ch0000005?line=14'>15</a>\u001b[0m estimator\u001b[39m.\u001b[39;49mfit(data_location)\n\u001b[1;32m     <a href='vscode-notebook-cell:/home/chase/7643-Lidar/remoteDevelopment.ipynb#ch0000005?line=16'>17</a>\u001b[0m predictor \u001b[39m=\u001b[39m estimator\u001b[39m.\u001b[39mdeploy(\u001b[39m1\u001b[39m, instance_type)\n",
      "File \u001b[0;32m~/miniconda3/envs/7643/lib/python3.9/site-packages/sagemaker/estimator.py:950\u001b[0m, in \u001b[0;36mEstimatorBase.fit\u001b[0;34m(self, inputs, wait, logs, job_name, experiment_config)\u001b[0m\n\u001b[1;32m    <a href='file:///home/chase/miniconda3/envs/7643/lib/python3.9/site-packages/sagemaker/estimator.py?line=897'>898</a>\u001b[0m \u001b[39m\"\"\"Train a model using the input training dataset.\u001b[39;00m\n\u001b[1;32m    <a href='file:///home/chase/miniconda3/envs/7643/lib/python3.9/site-packages/sagemaker/estimator.py?line=898'>899</a>\u001b[0m \n\u001b[1;32m    <a href='file:///home/chase/miniconda3/envs/7643/lib/python3.9/site-packages/sagemaker/estimator.py?line=899'>900</a>\u001b[0m \u001b[39mThe API calls the Amazon SageMaker CreateTrainingJob API to start\u001b[39;00m\n\u001b[0;32m   (...)\u001b[0m\n\u001b[1;32m    <a href='file:///home/chase/miniconda3/envs/7643/lib/python3.9/site-packages/sagemaker/estimator.py?line=945'>946</a>\u001b[0m \u001b[39m        * `TrialComponentDisplayName` is used for display in Studio.\u001b[39;00m\n\u001b[1;32m    <a href='file:///home/chase/miniconda3/envs/7643/lib/python3.9/site-packages/sagemaker/estimator.py?line=946'>947</a>\u001b[0m \u001b[39m\"\"\"\u001b[39;00m\n\u001b[1;32m    <a href='file:///home/chase/miniconda3/envs/7643/lib/python3.9/site-packages/sagemaker/estimator.py?line=947'>948</a>\u001b[0m \u001b[39mself\u001b[39m\u001b[39m.\u001b[39m_prepare_for_training(job_name\u001b[39m=\u001b[39mjob_name)\n\u001b[0;32m--> <a href='file:///home/chase/miniconda3/envs/7643/lib/python3.9/site-packages/sagemaker/estimator.py?line=949'>950</a>\u001b[0m \u001b[39mself\u001b[39m\u001b[39m.\u001b[39mlatest_training_job \u001b[39m=\u001b[39m _TrainingJob\u001b[39m.\u001b[39;49mstart_new(\u001b[39mself\u001b[39;49m, inputs, experiment_config)\n\u001b[1;32m    <a href='file:///home/chase/miniconda3/envs/7643/lib/python3.9/site-packages/sagemaker/estimator.py?line=950'>951</a>\u001b[0m \u001b[39mself\u001b[39m\u001b[39m.\u001b[39mjobs\u001b[39m.\u001b[39mappend(\u001b[39mself\u001b[39m\u001b[39m.\u001b[39mlatest_training_job)\n\u001b[1;32m    <a href='file:///home/chase/miniconda3/envs/7643/lib/python3.9/site-packages/sagemaker/estimator.py?line=951'>952</a>\u001b[0m \u001b[39mif\u001b[39;00m wait:\n",
      "File \u001b[0;32m~/miniconda3/envs/7643/lib/python3.9/site-packages/sagemaker/estimator.py:1760\u001b[0m, in \u001b[0;36m_TrainingJob.start_new\u001b[0;34m(cls, estimator, inputs, experiment_config)\u001b[0m\n\u001b[1;32m   <a href='file:///home/chase/miniconda3/envs/7643/lib/python3.9/site-packages/sagemaker/estimator.py?line=1736'>1737</a>\u001b[0m \u001b[39m\"\"\"Create a new Amazon SageMaker training job from the estimator.\u001b[39;00m\n\u001b[1;32m   <a href='file:///home/chase/miniconda3/envs/7643/lib/python3.9/site-packages/sagemaker/estimator.py?line=1737'>1738</a>\u001b[0m \n\u001b[1;32m   <a href='file:///home/chase/miniconda3/envs/7643/lib/python3.9/site-packages/sagemaker/estimator.py?line=1738'>1739</a>\u001b[0m \u001b[39mArgs:\u001b[39;00m\n\u001b[0;32m   (...)\u001b[0m\n\u001b[1;32m   <a href='file:///home/chase/miniconda3/envs/7643/lib/python3.9/site-packages/sagemaker/estimator.py?line=1756'>1757</a>\u001b[0m \u001b[39m    all information about the started training job.\u001b[39;00m\n\u001b[1;32m   <a href='file:///home/chase/miniconda3/envs/7643/lib/python3.9/site-packages/sagemaker/estimator.py?line=1757'>1758</a>\u001b[0m \u001b[39m\"\"\"\u001b[39;00m\n\u001b[1;32m   <a href='file:///home/chase/miniconda3/envs/7643/lib/python3.9/site-packages/sagemaker/estimator.py?line=1758'>1759</a>\u001b[0m train_args \u001b[39m=\u001b[39m \u001b[39mcls\u001b[39m\u001b[39m.\u001b[39m_get_train_args(estimator, inputs, experiment_config)\n\u001b[0;32m-> <a href='file:///home/chase/miniconda3/envs/7643/lib/python3.9/site-packages/sagemaker/estimator.py?line=1759'>1760</a>\u001b[0m estimator\u001b[39m.\u001b[39;49msagemaker_session\u001b[39m.\u001b[39;49mtrain(\u001b[39m*\u001b[39;49m\u001b[39m*\u001b[39;49mtrain_args)\n\u001b[1;32m   <a href='file:///home/chase/miniconda3/envs/7643/lib/python3.9/site-packages/sagemaker/estimator.py?line=1761'>1762</a>\u001b[0m \u001b[39mreturn\u001b[39;00m \u001b[39mcls\u001b[39m(estimator\u001b[39m.\u001b[39msagemaker_session, estimator\u001b[39m.\u001b[39m_current_job_name)\n",
      "File \u001b[0;32m~/miniconda3/envs/7643/lib/python3.9/site-packages/sagemaker/session.py:590\u001b[0m, in \u001b[0;36mSession.train\u001b[0;34m(self, input_mode, input_config, role, job_name, output_config, resource_config, vpc_config, hyperparameters, stop_condition, tags, metric_definitions, enable_network_isolation, image_uri, algorithm_arn, encrypt_inter_container_traffic, use_spot_instances, checkpoint_s3_uri, checkpoint_local_path, experiment_config, debugger_rule_configs, debugger_hook_config, tensorboard_output_config, enable_sagemaker_metrics, profiler_rule_configs, profiler_config, environment, retry_strategy)\u001b[0m\n\u001b[1;32m    <a href='file:///home/chase/miniconda3/envs/7643/lib/python3.9/site-packages/sagemaker/session.py?line=587'>588</a>\u001b[0m LOGGER\u001b[39m.\u001b[39minfo(\u001b[39m\"\u001b[39m\u001b[39mCreating training-job with name: \u001b[39m\u001b[39m%s\u001b[39;00m\u001b[39m\"\u001b[39m, job_name)\n\u001b[1;32m    <a href='file:///home/chase/miniconda3/envs/7643/lib/python3.9/site-packages/sagemaker/session.py?line=588'>589</a>\u001b[0m LOGGER\u001b[39m.\u001b[39mdebug(\u001b[39m\"\u001b[39m\u001b[39mtrain request: \u001b[39m\u001b[39m%s\u001b[39;00m\u001b[39m\"\u001b[39m, json\u001b[39m.\u001b[39mdumps(train_request, indent\u001b[39m=\u001b[39m\u001b[39m4\u001b[39m))\n\u001b[0;32m--> <a href='file:///home/chase/miniconda3/envs/7643/lib/python3.9/site-packages/sagemaker/session.py?line=589'>590</a>\u001b[0m \u001b[39mself\u001b[39;49m\u001b[39m.\u001b[39;49msagemaker_client\u001b[39m.\u001b[39;49mcreate_training_job(\u001b[39m*\u001b[39;49m\u001b[39m*\u001b[39;49mtrain_request)\n",
      "File \u001b[0;32m~/miniconda3/envs/7643/lib/python3.9/site-packages/botocore/client.py:395\u001b[0m, in \u001b[0;36mClientCreator._create_api_method.<locals>._api_call\u001b[0;34m(self, *args, **kwargs)\u001b[0m\n\u001b[1;32m    <a href='file:///home/chase/miniconda3/envs/7643/lib/python3.9/site-packages/botocore/client.py?line=391'>392</a>\u001b[0m     \u001b[39mraise\u001b[39;00m \u001b[39mTypeError\u001b[39;00m(\n\u001b[1;32m    <a href='file:///home/chase/miniconda3/envs/7643/lib/python3.9/site-packages/botocore/client.py?line=392'>393</a>\u001b[0m         \u001b[39m\"\u001b[39m\u001b[39m%s\u001b[39;00m\u001b[39m() only accepts keyword arguments.\u001b[39m\u001b[39m\"\u001b[39m \u001b[39m%\u001b[39m py_operation_name)\n\u001b[1;32m    <a href='file:///home/chase/miniconda3/envs/7643/lib/python3.9/site-packages/botocore/client.py?line=393'>394</a>\u001b[0m \u001b[39m# The \"self\" in this scope is referring to the BaseClient.\u001b[39;00m\n\u001b[0;32m--> <a href='file:///home/chase/miniconda3/envs/7643/lib/python3.9/site-packages/botocore/client.py?line=394'>395</a>\u001b[0m \u001b[39mreturn\u001b[39;00m \u001b[39mself\u001b[39;49m\u001b[39m.\u001b[39;49m_make_api_call(operation_name, kwargs)\n",
      "File \u001b[0;32m~/miniconda3/envs/7643/lib/python3.9/site-packages/botocore/client.py:725\u001b[0m, in \u001b[0;36mBaseClient._make_api_call\u001b[0;34m(self, operation_name, api_params)\u001b[0m\n\u001b[1;32m    <a href='file:///home/chase/miniconda3/envs/7643/lib/python3.9/site-packages/botocore/client.py?line=722'>723</a>\u001b[0m     error_code \u001b[39m=\u001b[39m parsed_response\u001b[39m.\u001b[39mget(\u001b[39m\"\u001b[39m\u001b[39mError\u001b[39m\u001b[39m\"\u001b[39m, {})\u001b[39m.\u001b[39mget(\u001b[39m\"\u001b[39m\u001b[39mCode\u001b[39m\u001b[39m\"\u001b[39m)\n\u001b[1;32m    <a href='file:///home/chase/miniconda3/envs/7643/lib/python3.9/site-packages/botocore/client.py?line=723'>724</a>\u001b[0m     error_class \u001b[39m=\u001b[39m \u001b[39mself\u001b[39m\u001b[39m.\u001b[39mexceptions\u001b[39m.\u001b[39mfrom_code(error_code)\n\u001b[0;32m--> <a href='file:///home/chase/miniconda3/envs/7643/lib/python3.9/site-packages/botocore/client.py?line=724'>725</a>\u001b[0m     \u001b[39mraise\u001b[39;00m error_class(parsed_response, operation_name)\n\u001b[1;32m    <a href='file:///home/chase/miniconda3/envs/7643/lib/python3.9/site-packages/botocore/client.py?line=725'>726</a>\u001b[0m \u001b[39melse\u001b[39;00m:\n\u001b[1;32m    <a href='file:///home/chase/miniconda3/envs/7643/lib/python3.9/site-packages/botocore/client.py?line=726'>727</a>\u001b[0m     \u001b[39mreturn\u001b[39;00m parsed_response\n",
      "\u001b[0;31mClientError\u001b[0m: An error occurred (ValidationException) when calling the CreateTrainingJob operation: No S3 objects found under S3 URL \"s3://sagemaker-us-east-1224863548990/lidar-data\" given in input data source. Please ensure that the bucket exists in the selected region (us-east-1), that objects exist under that S3 prefix, and that the role \"arn:aws:iam::224863548990:role/sagemaker_role\" has \"s3:ListBucket\" permissions on bucket \"sagemaker-us-east-1224863548990\". Error message from S3: The specified bucket does not exist"
     ]
    }
   ],
   "source": [
    "from sagemaker.estimator import Estimator\n",
    "\n",
    "hyperparameters = {\"epochs\": 1}\n",
    "\n",
    "instance_type = \"ml.m4.xlarge\"\n",
    "\n",
    "estimator = Estimator(\n",
    "    role=role,\n",
    "    train_instance_count=1,\n",
    "    train_instance_type=instance_type,\n",
    "    image_uri=ecr_image,\n",
    "    hyperparameters=hyperparameters,\n",
    ")\n",
    "\n",
    "estimator.fit(data_location)\n",
    "\n",
    "predictor = estimator.deploy(1, instance_type)"
   ]
  },
  {
   "cell_type": "code",
   "execution_count": null,
   "metadata": {},
   "outputs": [],
   "source": [
    "import torchvision, torch\n",
    "import numpy as np\n",
    "\n",
    "from utils.utils_cifar import get_test_data_loader, imshow, classes\n",
    "testloader = get_test_data_loader(\"/tmp/lidar\")\n",
    "\n",
    "from sagemaker.predictor import json_serializer, json_deserializer"
   ]
  },
  {
   "cell_type": "code",
   "execution_count": null,
   "metadata": {},
   "outputs": [],
   "source": [
    "# get some test images\n",
    "dataiter = iter(testloader)\n",
    "images, labels = dataiter.next()\n",
    "\n",
    "# print images\n",
    "imshow(torchvision.utils.make_grid(images))\n",
    "print(\"GroundTruth: \", \" \".join(\"%4s\" % classes[labels[j]] for j in range(4)))\n",
    "\n",
    "# predictor.accept = \"application/json\"\n",
    "# predictor.content_type = \"application/json\"\n",
    "\n",
    "predictor.serializer = json_serializer\n",
    "predictor.deserializer = json_deserializer\n",
    "\n",
    "outputs = predictor.predict(images.numpy())\n",
    "\n",
    "_, predicted = torch.max(torch.from_numpy(np.array(outputs)), 1)\n",
    "\n",
    "print(\"Predicted: \", \" \".join(\"%4s\" % classes[predicted[j]] for j in range(4)))"
   ]
  },
  {
   "cell_type": "code",
   "execution_count": null,
   "metadata": {},
   "outputs": [],
   "source": [
    "predictor.delete_endpoint()"
   ]
  }
 ],
 "metadata": {
  "interpreter": {
   "hash": "830911f9e07924fa967a24f4831cada907fab13bf23513f03ad15f03bde45365"
  },
  "kernelspec": {
   "display_name": "Python 3.9.7 ('7643')",
   "language": "python",
   "name": "python3"
  },
  "language_info": {
   "codemirror_mode": {
    "name": "ipython",
    "version": 3
   },
   "file_extension": ".py",
   "mimetype": "text/x-python",
   "name": "python",
   "nbconvert_exporter": "python",
   "pygments_lexer": "ipython3",
   "version": "3.9.7"
  },
  "orig_nbformat": 4
 },
 "nbformat": 4,
 "nbformat_minor": 2
}
