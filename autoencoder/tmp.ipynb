{
 "cells": [
  {
   "cell_type": "code",
   "execution_count": 1,
   "metadata": {},
   "outputs": [],
   "source": [
    "%load_ext autoreload\n",
    "%autoreload 2"
   ]
  },
  {
   "cell_type": "code",
   "execution_count": 2,
   "metadata": {},
   "outputs": [],
   "source": [
    "import numpy as np\n",
    "import pandas as pd\n",
    "import torch\n",
    "import tqdm\n",
    "import torch.optim as optim\n",
    "import torch.nn as nn"
   ]
  },
  {
   "cell_type": "code",
   "execution_count": 3,
   "metadata": {},
   "outputs": [],
   "source": [
    "device = torch.device('cuda' if torch.cuda.is_available() else 'cpu')\n",
    "# device = 'cpu'"
   ]
  },
  {
   "cell_type": "code",
   "execution_count": 4,
   "metadata": {},
   "outputs": [],
   "source": [
    "os.environ['CUDA_LAUNCH_BLOCKING'] = '1'"
   ]
  },
  {
   "cell_type": "code",
   "execution_count": null,
   "metadata": {},
   "outputs": [],
   "source": []
  },
  {
   "cell_type": "code",
   "execution_count": null,
   "metadata": {},
   "outputs": [],
   "source": []
  },
  {
   "cell_type": "code",
   "execution_count": null,
   "metadata": {},
   "outputs": [],
   "source": []
  },
  {
   "cell_type": "code",
   "execution_count": null,
   "metadata": {},
   "outputs": [],
   "source": []
  },
  {
   "cell_type": "code",
   "execution_count": null,
   "metadata": {},
   "outputs": [],
   "source": []
  },
  {
   "cell_type": "code",
   "execution_count": null,
   "metadata": {},
   "outputs": [],
   "source": []
  },
  {
   "cell_type": "code",
   "execution_count": null,
   "metadata": {},
   "outputs": [],
   "source": []
  },
  {
   "cell_type": "code",
   "execution_count": 5,
   "metadata": {},
   "outputs": [
    {
     "data": {
      "application/vnd.jupyter.widget-view+json": {
       "model_id": "6d0cecb41a224d829db74b34d71f9585",
       "version_major": 2,
       "version_minor": 0
      },
      "text/plain": [
       "pos Files:   0%|          | 0/12500 [00:00<?, ?it/s]"
      ]
     },
     "metadata": {},
     "output_type": "display_data"
    },
    {
     "data": {
      "application/vnd.jupyter.widget-view+json": {
       "model_id": "68ba46dd7c7f4a03885cbef1cc161191",
       "version_major": 2,
       "version_minor": 0
      },
      "text/plain": [
       "neg Files:   0%|          | 0/12500 [00:00<?, ?it/s]"
      ]
     },
     "metadata": {},
     "output_type": "display_data"
    },
    {
     "data": {
      "application/vnd.jupyter.widget-view+json": {
       "model_id": "b5d822c1afb142b5a72276d4eeecb97a",
       "version_major": 2,
       "version_minor": 0
      },
      "text/plain": [
       "pos Files:   0%|          | 0/12500 [00:00<?, ?it/s]"
      ]
     },
     "metadata": {},
     "output_type": "display_data"
    },
    {
     "data": {
      "application/vnd.jupyter.widget-view+json": {
       "model_id": "7e25ac2bdd7345ad9f74f5dbe4b055a4",
       "version_major": 2,
       "version_minor": 0
      },
      "text/plain": [
       "neg Files:   0%|          | 0/12500 [00:00<?, ?it/s]"
      ]
     },
     "metadata": {},
     "output_type": "display_data"
    }
   ],
   "source": [
    "from movie import MovieReviewsTextDataset\n",
    "\n",
    "train_dataset = MovieReviewsTextDataset(path='./data/aclImdb/train', max_len=25)\n",
    "valid_dataset = MovieReviewsTextDataset(path='./data/aclImdb/test', max_len=25)"
   ]
  },
  {
   "cell_type": "code",
   "execution_count": 6,
   "metadata": {},
   "outputs": [],
   "source": [
    "from movie import Lang\n",
    "\n",
    "VOCAB = Lang('imdb_en')\n",
    "# VOCAB.__dict__\n",
    "\n",
    "for t in train_dataset.texts:\n",
    "    VOCAB.addSentence(t)\n",
    "\n",
    "for t in valid_dataset.texts:\n",
    "    VOCAB.addSentence(t)"
   ]
  },
  {
   "cell_type": "code",
   "execution_count": 7,
   "metadata": {},
   "outputs": [],
   "source": [
    "from torch.utils.data import DataLoader\n",
    "\n",
    "\n",
    "BATCH_SIZE = 128\n",
    "train_loader = DataLoader(train_dataset, batch_size=BATCH_SIZE, shuffle=False)\n",
    "valid_loader = DataLoader(valid_dataset, batch_size=BATCH_SIZE, shuffle=False)"
   ]
  },
  {
   "cell_type": "code",
   "execution_count": 8,
   "metadata": {},
   "outputs": [],
   "source": [
    "# for batch_idx, batch in enumerate(train_loader):\n",
    "#     print(batch)\n",
    "#     break"
   ]
  },
  {
   "cell_type": "code",
   "execution_count": 9,
   "metadata": {},
   "outputs": [],
   "source": [
    "\n",
    "\n",
    "input_size = VOCAB.n_words\n",
    "output_size = VOCAB.n_words\n",
    "\n",
    "encoder_emb_size = 32\n",
    "encoder_hidden_size = 64\n",
    "encoder_dropout = 0.2\n",
    "\n",
    "decoder_emb_size = 32\n",
    "decoder_hidden_size = 64\n",
    "decoder_dropout = 0.2\n",
    "\n",
    "learning_rate = 1e-3\n",
    "model_type = \"LSTM\"\n",
    "\n",
    "EPOCHS = 10\n",
    "PAD_IDX = VOCAB.word2index['<pad>']\n",
    "\n",
    "\n",
    "\n",
    "\n"
   ]
  },
  {
   "cell_type": "code",
   "execution_count": 10,
   "metadata": {},
   "outputs": [],
   "source": [
    "# encoder_emb_size = 128\n",
    "# encoder_hidden_size = 64\n",
    "# encoder_dropout = 0.1\n",
    "\n",
    "# decoder_emb_size = 32\n",
    "# decoder_hidden_size = 64\n",
    "# decoder_dropout = 0.1\n",
    "\n",
    "# learning_rate = 0.0004\n",
    "# model_type = \"LSTM\"\n",
    "\n",
    "# EPOCHS = 10"
   ]
  },
  {
   "cell_type": "code",
   "execution_count": 11,
   "metadata": {},
   "outputs": [],
   "source": [
    "from models.seq2seq.Encoder import Encoder\n",
    "from models.seq2seq.Decoder import Decoder\n",
    "from models.seq2seq.Seq2Seq import Seq2Seq\n",
    "\n",
    "\n",
    "encoder = Encoder(input_size, encoder_emb_size, encoder_hidden_size, decoder_hidden_size, dropout = encoder_dropout, model_type = model_type)\n",
    "decoder = Decoder(decoder_emb_size, encoder_hidden_size, encoder_hidden_size, output_size, dropout = decoder_dropout, model_type = model_type)\n",
    "seq2seq_model = Seq2Seq(encoder, decoder, device)"
   ]
  },
  {
   "cell_type": "code",
   "execution_count": 12,
   "metadata": {},
   "outputs": [],
   "source": [
    "# from autoencoder import AutoEncoder\n",
    "\n",
    "# autoencoder = AutoEncoder(VOCAB.n_words, 32, 27, 3, PAD_IDX)\n",
    "# autoencoder.to(device)"
   ]
  },
  {
   "cell_type": "code",
   "execution_count": null,
   "metadata": {},
   "outputs": [],
   "source": []
  },
  {
   "cell_type": "code",
   "execution_count": null,
   "metadata": {},
   "outputs": [],
   "source": []
  },
  {
   "cell_type": "code",
   "execution_count": 13,
   "metadata": {},
   "outputs": [],
   "source": [
    "optimizer = optim.Adam(seq2seq_model.parameters(), lr = learning_rate)\n",
    "scheduler = torch.optim.lr_scheduler.ReduceLROnPlateau(optimizer)\n",
    "criterion = nn.CrossEntropyLoss(ignore_index=PAD_IDX)"
   ]
  },
  {
   "cell_type": "code",
   "execution_count": null,
   "metadata": {},
   "outputs": [],
   "source": []
  },
  {
   "cell_type": "code",
   "execution_count": null,
   "metadata": {},
   "outputs": [],
   "source": []
  },
  {
   "cell_type": "code",
   "execution_count": null,
   "metadata": {},
   "outputs": [],
   "source": []
  },
  {
   "cell_type": "code",
   "execution_count": null,
   "metadata": {},
   "outputs": [],
   "source": []
  },
  {
   "cell_type": "code",
   "execution_count": 14,
   "metadata": {},
   "outputs": [],
   "source": [
    "def train(model, loader, criterion):\n",
    "    total_loss = 0.\n",
    "\n",
    "\n",
    "    model.train()\n",
    "\n",
    "    progress_bar = tqdm.notebook.tqdm(loader, ascii=True)\n",
    "    for batch_idx, data in enumerate(progress_bar):\n",
    "\n",
    "        # print(batch_idx)\n",
    "\n",
    "        data = np.array(data['text']).T\n",
    "        data = np.array([[VOCAB.word2index[word] for word in review] for review in data])\n",
    "        source = torch.tensor(data, requires_grad=False).to(device)\n",
    "        target = torch.tensor(data, requires_grad=False).to(device)\n",
    "\n",
    "        \n",
    "        reconstructed = model(source)\n",
    "        reconstructed = reconstructed.view(-1, reconstructed.shape[-1])\n",
    "        target = target.view(-1)\n",
    "\n",
    "        optimizer.zero_grad()\n",
    "        loss = criterion(reconstructed, target)\n",
    "        loss.backward()\n",
    "        optimizer.step()\n",
    "\n",
    "\n",
    "        \n",
    "        total_loss += loss\n",
    "        progress_bar.set_description_str(\"Batch: %d, Loss: %.4f\" % ((batch_idx + 1), loss.item()))\n",
    "\n",
    "\n",
    "\n",
    "\n",
    "    return total_loss, total_loss / len(loader)"
   ]
  },
  {
   "cell_type": "code",
   "execution_count": 15,
   "metadata": {},
   "outputs": [],
   "source": [
    "def validate(model, loader, criterion):\n",
    "    \n",
    "    total_loss = 0.\n",
    "    model.eval()\n",
    "\n",
    "    with torch.no_grad():\n",
    "\n",
    "\n",
    "        progress_bar = tqdm.notebook.tqdm(loader, ascii=True)\n",
    "        for batch_idx, data in enumerate(progress_bar):\n",
    "\n",
    "            # print(batch_idx)\n",
    "\n",
    "            data = np.array(data['text']).T\n",
    "            data = np.array([[VOCAB.word2index[word] for word in review] for review in data])\n",
    "            source = torch.tensor(data, requires_grad=False).to(device)\n",
    "            target = torch.tensor(data, requires_grad=False).to(device)\n",
    "\n",
    "            \n",
    "            reconstructed = model(source)\n",
    "            reconstructed = reconstructed.view(-1, reconstructed.shape[-1])\n",
    "            target = target.view(-1)\n",
    "            \n",
    "            loss = criterion(reconstructed, target)\n",
    "\n",
    "            \n",
    "            total_loss += loss\n",
    "            progress_bar.set_description_str(\"Batch: %d, Loss: %.4f\" % ((batch_idx + 1), loss.item()))\n",
    "\n",
    "\n",
    "    return total_loss, total_loss / len(loader)"
   ]
  },
  {
   "cell_type": "code",
   "execution_count": 16,
   "metadata": {},
   "outputs": [
    {
     "data": {
      "application/vnd.jupyter.widget-view+json": {
       "model_id": "ae2e8bbc2e1140e99274fb0aebc5e8f7",
       "version_major": 2,
       "version_minor": 0
      },
      "text/plain": [
       "  0%|          | 0/196 [00:00<?, ?it/s]"
      ]
     },
     "metadata": {},
     "output_type": "display_data"
    },
    {
     "data": {
      "application/vnd.jupyter.widget-view+json": {
       "model_id": "b0cd16dc9e47435b9d8086514a1805fd",
       "version_major": 2,
       "version_minor": 0
      },
      "text/plain": [
       "  0%|          | 0/196 [00:00<?, ?it/s]"
      ]
     },
     "metadata": {},
     "output_type": "display_data"
    },
    {
     "name": "stdout",
     "output_type": "stream",
     "text": [
      "Train loss: 7.600804805755615 ||| Validation loss: 6.437191963195801\n"
     ]
    },
    {
     "data": {
      "application/vnd.jupyter.widget-view+json": {
       "model_id": "9ca8e94039e34d11976711d67526fdf1",
       "version_major": 2,
       "version_minor": 0
      },
      "text/plain": [
       "  0%|          | 0/196 [00:00<?, ?it/s]"
      ]
     },
     "metadata": {},
     "output_type": "display_data"
    },
    {
     "data": {
      "application/vnd.jupyter.widget-view+json": {
       "model_id": "f4db75bcef1c460db2c58400bc47d5ba",
       "version_major": 2,
       "version_minor": 0
      },
      "text/plain": [
       "  0%|          | 0/196 [00:00<?, ?it/s]"
      ]
     },
     "metadata": {},
     "output_type": "display_data"
    },
    {
     "name": "stdout",
     "output_type": "stream",
     "text": [
      "Train loss: 6.367506980895996 ||| Validation loss: 6.426760196685791\n"
     ]
    },
    {
     "data": {
      "application/vnd.jupyter.widget-view+json": {
       "model_id": "f765204dcc514e0eacbff748a320c2ef",
       "version_major": 2,
       "version_minor": 0
      },
      "text/plain": [
       "  0%|          | 0/196 [00:00<?, ?it/s]"
      ]
     },
     "metadata": {},
     "output_type": "display_data"
    },
    {
     "data": {
      "application/vnd.jupyter.widget-view+json": {
       "model_id": "76826a48fe654712940b6d80ccfd0e0b",
       "version_major": 2,
       "version_minor": 0
      },
      "text/plain": [
       "  0%|          | 0/196 [00:00<?, ?it/s]"
      ]
     },
     "metadata": {},
     "output_type": "display_data"
    },
    {
     "name": "stdout",
     "output_type": "stream",
     "text": [
      "Train loss: 6.341692924499512 ||| Validation loss: 6.422240257263184\n"
     ]
    },
    {
     "data": {
      "application/vnd.jupyter.widget-view+json": {
       "model_id": "c9c9fe023f644b0a937b1a638512b627",
       "version_major": 2,
       "version_minor": 0
      },
      "text/plain": [
       "  0%|          | 0/196 [00:00<?, ?it/s]"
      ]
     },
     "metadata": {},
     "output_type": "display_data"
    },
    {
     "data": {
      "application/vnd.jupyter.widget-view+json": {
       "model_id": "ea65ace45a4e49bb947d571271d3fd4f",
       "version_major": 2,
       "version_minor": 0
      },
      "text/plain": [
       "  0%|          | 0/196 [00:00<?, ?it/s]"
      ]
     },
     "metadata": {},
     "output_type": "display_data"
    },
    {
     "name": "stdout",
     "output_type": "stream",
     "text": [
      "Train loss: 6.323130130767822 ||| Validation loss: 6.418086528778076\n"
     ]
    },
    {
     "data": {
      "application/vnd.jupyter.widget-view+json": {
       "model_id": "01a7b0b0dcb3473d9d743eae2c9a2ffc",
       "version_major": 2,
       "version_minor": 0
      },
      "text/plain": [
       "  0%|          | 0/196 [00:00<?, ?it/s]"
      ]
     },
     "metadata": {},
     "output_type": "display_data"
    },
    {
     "data": {
      "application/vnd.jupyter.widget-view+json": {
       "model_id": "59c1487689e144cf93a92aa92af9cec1",
       "version_major": 2,
       "version_minor": 0
      },
      "text/plain": [
       "  0%|          | 0/196 [00:00<?, ?it/s]"
      ]
     },
     "metadata": {},
     "output_type": "display_data"
    },
    {
     "name": "stdout",
     "output_type": "stream",
     "text": [
      "Train loss: 6.311318874359131 ||| Validation loss: 6.4168500900268555\n"
     ]
    },
    {
     "data": {
      "application/vnd.jupyter.widget-view+json": {
       "model_id": "51a9ac4be3f24ed7980e238b6171348f",
       "version_major": 2,
       "version_minor": 0
      },
      "text/plain": [
       "  0%|          | 0/196 [00:00<?, ?it/s]"
      ]
     },
     "metadata": {},
     "output_type": "display_data"
    },
    {
     "data": {
      "application/vnd.jupyter.widget-view+json": {
       "model_id": "07963ed5b29b4013942fd4aefbce4ca6",
       "version_major": 2,
       "version_minor": 0
      },
      "text/plain": [
       "  0%|          | 0/196 [00:00<?, ?it/s]"
      ]
     },
     "metadata": {},
     "output_type": "display_data"
    },
    {
     "name": "stdout",
     "output_type": "stream",
     "text": [
      "Train loss: 6.282530784606934 ||| Validation loss: 6.380202770233154\n"
     ]
    },
    {
     "data": {
      "application/vnd.jupyter.widget-view+json": {
       "model_id": "f1743527a79b4b038ab23023a0d8c47b",
       "version_major": 2,
       "version_minor": 0
      },
      "text/plain": [
       "  0%|          | 0/196 [00:00<?, ?it/s]"
      ]
     },
     "metadata": {},
     "output_type": "display_data"
    },
    {
     "data": {
      "application/vnd.jupyter.widget-view+json": {
       "model_id": "562eb1710ad743aaa0c57d2da526715a",
       "version_major": 2,
       "version_minor": 0
      },
      "text/plain": [
       "  0%|          | 0/196 [00:00<?, ?it/s]"
      ]
     },
     "metadata": {},
     "output_type": "display_data"
    },
    {
     "name": "stdout",
     "output_type": "stream",
     "text": [
      "Train loss: 6.253733158111572 ||| Validation loss: 6.384605884552002\n"
     ]
    },
    {
     "data": {
      "application/vnd.jupyter.widget-view+json": {
       "model_id": "5b9362874eed4de596f2c00779b30b4f",
       "version_major": 2,
       "version_minor": 0
      },
      "text/plain": [
       "  0%|          | 0/196 [00:00<?, ?it/s]"
      ]
     },
     "metadata": {},
     "output_type": "display_data"
    },
    {
     "data": {
      "application/vnd.jupyter.widget-view+json": {
       "model_id": "8cf21f29df8647618fa6e8fcd148bb57",
       "version_major": 2,
       "version_minor": 0
      },
      "text/plain": [
       "  0%|          | 0/196 [00:00<?, ?it/s]"
      ]
     },
     "metadata": {},
     "output_type": "display_data"
    },
    {
     "name": "stdout",
     "output_type": "stream",
     "text": [
      "Train loss: 6.2383856773376465 ||| Validation loss: 6.356140613555908\n"
     ]
    },
    {
     "data": {
      "application/vnd.jupyter.widget-view+json": {
       "model_id": "3c111cfb622f4550b79f3e65bdaecde3",
       "version_major": 2,
       "version_minor": 0
      },
      "text/plain": [
       "  0%|          | 0/196 [00:00<?, ?it/s]"
      ]
     },
     "metadata": {},
     "output_type": "display_data"
    },
    {
     "data": {
      "application/vnd.jupyter.widget-view+json": {
       "model_id": "18baed6b46b848958002a562e47bf73b",
       "version_major": 2,
       "version_minor": 0
      },
      "text/plain": [
       "  0%|          | 0/196 [00:00<?, ?it/s]"
      ]
     },
     "metadata": {},
     "output_type": "display_data"
    },
    {
     "name": "stdout",
     "output_type": "stream",
     "text": [
      "Train loss: 6.2215189933776855 ||| Validation loss: 6.4284563064575195\n"
     ]
    },
    {
     "data": {
      "application/vnd.jupyter.widget-view+json": {
       "model_id": "4700af17f96a451d8e9704600158ff04",
       "version_major": 2,
       "version_minor": 0
      },
      "text/plain": [
       "  0%|          | 0/196 [00:00<?, ?it/s]"
      ]
     },
     "metadata": {},
     "output_type": "display_data"
    },
    {
     "data": {
      "application/vnd.jupyter.widget-view+json": {
       "model_id": "34a1c99be2744e06b55ba0fb31a04483",
       "version_major": 2,
       "version_minor": 0
      },
      "text/plain": [
       "  0%|          | 0/196 [00:00<?, ?it/s]"
      ]
     },
     "metadata": {},
     "output_type": "display_data"
    },
    {
     "name": "stdout",
     "output_type": "stream",
     "text": [
      "Train loss: 6.231274127960205 ||| Validation loss: 6.388311862945557\n"
     ]
    }
   ],
   "source": [
    "metrics = dict()\n",
    "\n",
    "for epoch in range(EPOCHS):\n",
    "\n",
    "    train_loss, avg_train_loss = train(seq2seq_model, train_loader, criterion)\n",
    "    scheduler.step(train_loss)\n",
    "\n",
    "    val_loss, avg_val_loss = validate(seq2seq_model, valid_loader, criterion)\n",
    "\n",
    "    print(f'Train loss: {avg_train_loss.item()} ||| Validation loss: {avg_val_loss.item()}')\n",
    "\n",
    "    metrics[epoch] = {\n",
    "        'avg_train_loss': avg_train_loss,\n",
    "        'avg_val_loss': avg_val_loss\n",
    "    }"
   ]
  },
  {
   "cell_type": "code",
   "execution_count": null,
   "metadata": {},
   "outputs": [],
   "source": [
    "Train loss: 7.483979225158691 ||| Validation loss: 6.462296485900879"
   ]
  },
  {
   "cell_type": "code",
   "execution_count": null,
   "metadata": {},
   "outputs": [],
   "source": []
  },
  {
   "cell_type": "code",
   "execution_count": null,
   "metadata": {},
   "outputs": [],
   "source": []
  },
  {
   "cell_type": "code",
   "execution_count": null,
   "metadata": {},
   "outputs": [],
   "source": []
  },
  {
   "cell_type": "code",
   "execution_count": null,
   "metadata": {},
   "outputs": [],
   "source": []
  },
  {
   "cell_type": "code",
   "execution_count": null,
   "metadata": {},
   "outputs": [],
   "source": []
  },
  {
   "cell_type": "code",
   "execution_count": null,
   "metadata": {},
   "outputs": [],
   "source": []
  },
  {
   "cell_type": "code",
   "execution_count": null,
   "metadata": {},
   "outputs": [],
   "source": []
  },
  {
   "cell_type": "code",
   "execution_count": null,
   "metadata": {},
   "outputs": [],
   "source": []
  },
  {
   "cell_type": "code",
   "execution_count": null,
   "metadata": {},
   "outputs": [],
   "source": []
  },
  {
   "cell_type": "code",
   "execution_count": null,
   "metadata": {},
   "outputs": [],
   "source": []
  },
  {
   "cell_type": "code",
   "execution_count": null,
   "metadata": {},
   "outputs": [],
   "source": []
  },
  {
   "cell_type": "code",
   "execution_count": null,
   "metadata": {},
   "outputs": [],
   "source": []
  },
  {
   "cell_type": "code",
   "execution_count": null,
   "metadata": {},
   "outputs": [],
   "source": [
    "with open('data/baseline_data_for_cluster.p', 'rb') as infile:\n",
    "    baseline = pickle.load(infile)\n",
    "\n",
    "baseline"
   ]
  },
  {
   "cell_type": "code",
   "execution_count": null,
   "metadata": {},
   "outputs": [],
   "source": []
  },
  {
   "cell_type": "code",
   "execution_count": null,
   "metadata": {},
   "outputs": [],
   "source": []
  },
  {
   "cell_type": "code",
   "execution_count": null,
   "metadata": {},
   "outputs": [],
   "source": []
  },
  {
   "cell_type": "code",
   "execution_count": null,
   "metadata": {},
   "outputs": [],
   "source": [
    "import os\n",
    "\n",
    "\n",
    "\n",
    "pos_dir = './data/aclImdb/train/pos'\n",
    "neg_dir = './data/aclImdb/train/neg'\n",
    "\n",
    "train_df = pd.DataFrame(\n",
    "    [['train'] + f[:-4].split('_') + ['pos'] + open(f'{pos_dir}/{f}').readlines() for f in os.listdir(pos_dir)] +\n",
    "    [['train'] + f[:-4].split('_') + ['neg'] + open(f'{neg_dir}/{f}').readlines() for f in os.listdir(neg_dir)],\n",
    "    columns=['type', 'id', 'score', 'label', 'review']\n",
    ") \\\n",
    ".astype({\n",
    "    'id': int,\n",
    "    'score': int,\n",
    "    'label': str,\n",
    "    'review': str\n",
    "})\n",
    "\n",
    "\n",
    "\n",
    "train_df.head()\n"
   ]
  },
  {
   "cell_type": "code",
   "execution_count": null,
   "metadata": {},
   "outputs": [],
   "source": [
    "train_df.shape"
   ]
  },
  {
   "cell_type": "code",
   "execution_count": null,
   "metadata": {},
   "outputs": [],
   "source": [
    "\n",
    "\n",
    "pos_dir = './data/aclImdb/test/pos'\n",
    "neg_dir = './data/aclImdb/test/neg'\n",
    "\n",
    "test_df = pd.DataFrame(\n",
    "    [['test'] + f[:-4].split('_') + ['pos'] + open(f'{pos_dir}/{f}').readlines() for f in os.listdir(pos_dir)] +\n",
    "    [['test'] + f[:-4].split('_') + ['neg'] + open(f'{neg_dir}/{f}').readlines() for f in os.listdir(neg_dir)],\n",
    "    columns=['type', 'id', 'score', 'label', 'review']\n",
    ") \\\n",
    ".astype({\n",
    "    'id': int,\n",
    "    'score': int,\n",
    "    'label': str,\n",
    "    'review': str\n",
    "})\n",
    "\n",
    "\n",
    "\n",
    "test_df.head()"
   ]
  },
  {
   "cell_type": "code",
   "execution_count": null,
   "metadata": {},
   "outputs": [],
   "source": [
    "train_df.to_csv('./data/imdb_train.csv', index=False)\n",
    "test_df.to_csv('./data/imdb_test.csv', index=False)"
   ]
  },
  {
   "cell_type": "code",
   "execution_count": null,
   "metadata": {},
   "outputs": [],
   "source": []
  }
 ],
 "metadata": {
  "interpreter": {
   "hash": "b744d8340fd5014b91655b5325cd7d8561a3481b2d5aee5c6a03c061c7f1cc8c"
  },
  "kernelspec": {
   "display_name": "Python 3.9.7 ('cs7643-a4-new')",
   "language": "python",
   "name": "python3"
  },
  "language_info": {
   "codemirror_mode": {
    "name": "ipython",
    "version": 3
   },
   "file_extension": ".py",
   "mimetype": "text/x-python",
   "name": "python",
   "nbconvert_exporter": "python",
   "pygments_lexer": "ipython3",
   "version": "3.9.12"
  },
  "orig_nbformat": 4
 },
 "nbformat": 4,
 "nbformat_minor": 2
}
