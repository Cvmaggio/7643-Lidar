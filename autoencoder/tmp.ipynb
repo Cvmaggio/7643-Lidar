{
 "cells": [
  {
   "cell_type": "code",
   "execution_count": 1,
   "metadata": {},
   "outputs": [],
   "source": [
    "%load_ext autoreload\n",
    "%autoreload 2"
   ]
  },
  {
   "cell_type": "code",
   "execution_count": 2,
   "metadata": {},
   "outputs": [],
   "source": [
    "import numpy as np\n",
    "import pandas as pd\n",
    "import torch\n",
    "import tqdm\n"
   ]
  },
  {
   "cell_type": "code",
   "execution_count": 3,
   "metadata": {},
   "outputs": [],
   "source": [
    "device = torch.device('cuda' if torch.cuda.is_available() else 'cpu')\n",
    "# device = 'cpu'"
   ]
  },
  {
   "cell_type": "code",
   "execution_count": 4,
   "metadata": {},
   "outputs": [],
   "source": [
    "os.environ['CUDA_LAUNCH_BLOCKING'] = '1'"
   ]
  },
  {
   "cell_type": "code",
   "execution_count": null,
   "metadata": {},
   "outputs": [],
   "source": []
  },
  {
   "cell_type": "code",
   "execution_count": null,
   "metadata": {},
   "outputs": [],
   "source": []
  },
  {
   "cell_type": "code",
   "execution_count": null,
   "metadata": {},
   "outputs": [],
   "source": []
  },
  {
   "cell_type": "code",
   "execution_count": null,
   "metadata": {},
   "outputs": [],
   "source": []
  },
  {
   "cell_type": "code",
   "execution_count": null,
   "metadata": {},
   "outputs": [],
   "source": []
  },
  {
   "cell_type": "code",
   "execution_count": null,
   "metadata": {},
   "outputs": [],
   "source": []
  },
  {
   "cell_type": "code",
   "execution_count": null,
   "metadata": {},
   "outputs": [],
   "source": []
  },
  {
   "cell_type": "code",
   "execution_count": 5,
   "metadata": {},
   "outputs": [
    {
     "data": {
      "application/vnd.jupyter.widget-view+json": {
       "model_id": "a2d0ed5d412c4aacbb5359d0a44e263e",
       "version_major": 2,
       "version_minor": 0
      },
      "text/plain": [
       "pos Files:   0%|          | 0/12500 [00:00<?, ?it/s]"
      ]
     },
     "metadata": {},
     "output_type": "display_data"
    },
    {
     "data": {
      "application/vnd.jupyter.widget-view+json": {
       "model_id": "cbb9ba5f159b4699a32eec2397474ee9",
       "version_major": 2,
       "version_minor": 0
      },
      "text/plain": [
       "neg Files:   0%|          | 0/12500 [00:00<?, ?it/s]"
      ]
     },
     "metadata": {},
     "output_type": "display_data"
    }
   ],
   "source": [
    "from movie import MovieReviewsTextDataset\n",
    "\n",
    "train_dataset = MovieReviewsTextDataset(path='./data/aclImdb/train')\n",
    "# valid_dataset = MovieReviewsTextDataset(path='./data/aclImdb/test')"
   ]
  },
  {
   "cell_type": "code",
   "execution_count": 6,
   "metadata": {},
   "outputs": [],
   "source": [
    "from movie import Lang\n",
    "\n",
    "VOCAB = Lang('imdb_en')\n",
    "# VOCAB.__dict__\n",
    "\n",
    "for t in train_dataset.texts:\n",
    "    VOCAB.addSentence(t)"
   ]
  },
  {
   "cell_type": "code",
   "execution_count": 7,
   "metadata": {},
   "outputs": [],
   "source": [
    "from torch.utils.data import DataLoader\n",
    "\n",
    "\n",
    "BATCH_SIZE = 128\n",
    "train_loader = DataLoader(train_dataset, batch_size=BATCH_SIZE, shuffle=False)"
   ]
  },
  {
   "cell_type": "code",
   "execution_count": 8,
   "metadata": {},
   "outputs": [],
   "source": [
    "# for batch_idx, batch in enumerate(train_loader):\n",
    "#     print(batch)\n",
    "#     break"
   ]
  },
  {
   "cell_type": "code",
   "execution_count": 9,
   "metadata": {},
   "outputs": [],
   "source": [
    "from models.seq2seq.Encoder import Encoder\n",
    "from models.seq2seq.Decoder import Decoder\n",
    "from models.seq2seq.Seq2Seq import Seq2Seq\n",
    "import torch.optim as optim\n",
    "import torch.nn as nn\n",
    "\n",
    "\n",
    "input_size = VOCAB.n_words\n",
    "output_size = VOCAB.n_words\n",
    "\n",
    "encoder_emb_size = 32\n",
    "encoder_hidden_size = 64\n",
    "encoder_dropout = 0.2\n",
    "\n",
    "decoder_emb_size = 32\n",
    "decoder_hidden_size = 64\n",
    "decoder_dropout = 0.2\n",
    "\n",
    "learning_rate = 1e-3\n",
    "model_type = \"LSTM\"\n",
    "\n",
    "EPOCHS = 10\n",
    "PAD_IDX = VOCAB.word2index['<pad>']\n",
    "\n",
    "\n",
    "\n",
    "encoder = Encoder(input_size, encoder_emb_size, encoder_hidden_size, decoder_hidden_size, dropout = encoder_dropout, model_type = model_type)\n",
    "decoder = Decoder(decoder_emb_size, encoder_hidden_size, encoder_hidden_size, output_size, dropout = decoder_dropout, model_type = model_type)\n",
    "seq2seq_model = Seq2Seq(encoder, decoder, device)\n",
    "\n",
    "optimizer = optim.Adam(seq2seq_model.parameters(), lr = learning_rate)\n",
    "# scheduler = torch.optim.lr_scheduler.ReduceLROnPlateau(optimizer)\n",
    "criterion = nn.CrossEntropyLoss(ignore_index=PAD_IDX)"
   ]
  },
  {
   "cell_type": "code",
   "execution_count": null,
   "metadata": {},
   "outputs": [],
   "source": []
  },
  {
   "cell_type": "code",
   "execution_count": 10,
   "metadata": {},
   "outputs": [
    {
     "data": {
      "application/vnd.jupyter.widget-view+json": {
       "model_id": "6a721f59173c4510b1b895ca9c13a70c",
       "version_major": 2,
       "version_minor": 0
      },
      "text/plain": [
       "  0%|          | 0/196 [00:00<?, ?it/s]"
      ]
     },
     "metadata": {},
     "output_type": "display_data"
    },
    {
     "ename": "RuntimeError",
     "evalue": "CUDA error: unknown error",
     "output_type": "error",
     "traceback": [
      "\u001b[0;31m---------------------------------------------------------------------------\u001b[0m",
      "\u001b[0;31mRuntimeError\u001b[0m                              Traceback (most recent call last)",
      "\u001b[1;32m/home/yandy/repos/omscs/cs7643/project/tmp.ipynb Cell 18'\u001b[0m in \u001b[0;36m<cell line: 8>\u001b[0;34m()\u001b[0m\n\u001b[1;32m     <a href='vscode-notebook-cell://wsl%2Bubuntu/home/yandy/repos/omscs/cs7643/project/tmp.ipynb#ch0000017vscode-remote?line=24'>25</a>\u001b[0m optimizer\u001b[39m.\u001b[39mzero_grad()\n\u001b[1;32m     <a href='vscode-notebook-cell://wsl%2Bubuntu/home/yandy/repos/omscs/cs7643/project/tmp.ipynb#ch0000017vscode-remote?line=25'>26</a>\u001b[0m loss \u001b[39m=\u001b[39m criterion(reconstructed, target)\n\u001b[0;32m---> <a href='vscode-notebook-cell://wsl%2Bubuntu/home/yandy/repos/omscs/cs7643/project/tmp.ipynb#ch0000017vscode-remote?line=26'>27</a>\u001b[0m loss\u001b[39m.\u001b[39;49mbackward()\n\u001b[1;32m     <a href='vscode-notebook-cell://wsl%2Bubuntu/home/yandy/repos/omscs/cs7643/project/tmp.ipynb#ch0000017vscode-remote?line=27'>28</a>\u001b[0m optimizer\u001b[39m.\u001b[39mstep()\n\u001b[1;32m     <a href='vscode-notebook-cell://wsl%2Bubuntu/home/yandy/repos/omscs/cs7643/project/tmp.ipynb#ch0000017vscode-remote?line=31'>32</a>\u001b[0m total_loss \u001b[39m+\u001b[39m\u001b[39m=\u001b[39m loss\n",
      "File \u001b[0;32m~/bin/miniconda3/envs/cs7643-a4-new/lib/python3.9/site-packages/torch/_tensor.py:307\u001b[0m, in \u001b[0;36mTensor.backward\u001b[0;34m(self, gradient, retain_graph, create_graph, inputs)\u001b[0m\n\u001b[1;32m    <a href='file:///home/yandy/bin/miniconda3/envs/cs7643-a4-new/lib/python3.9/site-packages/torch/_tensor.py?line=297'>298</a>\u001b[0m \u001b[39mif\u001b[39;00m has_torch_function_unary(\u001b[39mself\u001b[39m):\n\u001b[1;32m    <a href='file:///home/yandy/bin/miniconda3/envs/cs7643-a4-new/lib/python3.9/site-packages/torch/_tensor.py?line=298'>299</a>\u001b[0m     \u001b[39mreturn\u001b[39;00m handle_torch_function(\n\u001b[1;32m    <a href='file:///home/yandy/bin/miniconda3/envs/cs7643-a4-new/lib/python3.9/site-packages/torch/_tensor.py?line=299'>300</a>\u001b[0m         Tensor\u001b[39m.\u001b[39mbackward,\n\u001b[1;32m    <a href='file:///home/yandy/bin/miniconda3/envs/cs7643-a4-new/lib/python3.9/site-packages/torch/_tensor.py?line=300'>301</a>\u001b[0m         (\u001b[39mself\u001b[39m,),\n\u001b[0;32m   (...)\u001b[0m\n\u001b[1;32m    <a href='file:///home/yandy/bin/miniconda3/envs/cs7643-a4-new/lib/python3.9/site-packages/torch/_tensor.py?line=304'>305</a>\u001b[0m         create_graph\u001b[39m=\u001b[39mcreate_graph,\n\u001b[1;32m    <a href='file:///home/yandy/bin/miniconda3/envs/cs7643-a4-new/lib/python3.9/site-packages/torch/_tensor.py?line=305'>306</a>\u001b[0m         inputs\u001b[39m=\u001b[39minputs)\n\u001b[0;32m--> <a href='file:///home/yandy/bin/miniconda3/envs/cs7643-a4-new/lib/python3.9/site-packages/torch/_tensor.py?line=306'>307</a>\u001b[0m torch\u001b[39m.\u001b[39;49mautograd\u001b[39m.\u001b[39;49mbackward(\u001b[39mself\u001b[39;49m, gradient, retain_graph, create_graph, inputs\u001b[39m=\u001b[39;49minputs)\n",
      "File \u001b[0;32m~/bin/miniconda3/envs/cs7643-a4-new/lib/python3.9/site-packages/torch/autograd/__init__.py:154\u001b[0m, in \u001b[0;36mbackward\u001b[0;34m(tensors, grad_tensors, retain_graph, create_graph, grad_variables, inputs)\u001b[0m\n\u001b[1;32m    <a href='file:///home/yandy/bin/miniconda3/envs/cs7643-a4-new/lib/python3.9/site-packages/torch/autograd/__init__.py?line=150'>151</a>\u001b[0m \u001b[39mif\u001b[39;00m retain_graph \u001b[39mis\u001b[39;00m \u001b[39mNone\u001b[39;00m:\n\u001b[1;32m    <a href='file:///home/yandy/bin/miniconda3/envs/cs7643-a4-new/lib/python3.9/site-packages/torch/autograd/__init__.py?line=151'>152</a>\u001b[0m     retain_graph \u001b[39m=\u001b[39m create_graph\n\u001b[0;32m--> <a href='file:///home/yandy/bin/miniconda3/envs/cs7643-a4-new/lib/python3.9/site-packages/torch/autograd/__init__.py?line=153'>154</a>\u001b[0m Variable\u001b[39m.\u001b[39;49m_execution_engine\u001b[39m.\u001b[39;49mrun_backward(\n\u001b[1;32m    <a href='file:///home/yandy/bin/miniconda3/envs/cs7643-a4-new/lib/python3.9/site-packages/torch/autograd/__init__.py?line=154'>155</a>\u001b[0m     tensors, grad_tensors_, retain_graph, create_graph, inputs,\n\u001b[1;32m    <a href='file:///home/yandy/bin/miniconda3/envs/cs7643-a4-new/lib/python3.9/site-packages/torch/autograd/__init__.py?line=155'>156</a>\u001b[0m     allow_unreachable\u001b[39m=\u001b[39;49m\u001b[39mTrue\u001b[39;49;00m, accumulate_grad\u001b[39m=\u001b[39;49m\u001b[39mTrue\u001b[39;49;00m)\n",
      "\u001b[0;31mRuntimeError\u001b[0m: CUDA error: unknown error"
     ]
    }
   ],
   "source": [
    "\n",
    "total_loss = 0.\n",
    "\n",
    "encoder.train()\n",
    "decoder.train()\n",
    "seq2seq_model.train()\n",
    "\n",
    "progress_bar = tqdm.notebook.tqdm(train_loader, ascii=True)\n",
    "for batch_idx, data in enumerate(progress_bar):\n",
    "\n",
    "    # print(batch_idx)\n",
    "\n",
    "    data = np.array(data['text']).T\n",
    "    # print(data[0])\n",
    "    data = np.array([[VOCAB.word2index[word] for word in review] for review in data])\n",
    "    source = torch.from_numpy(data).to(device)\n",
    "    target = torch.from_numpy(data).to(device)\n",
    "    # print(data)\n",
    "    # print(data[0])\n",
    "    # print(data.reshape(-1).shape)\n",
    "    \n",
    "    reconstructed = seq2seq_model(source)\n",
    "    reconstructed = reconstructed.reshape(-1, reconstructed.shape[-1])\n",
    "    target = target.reshape(-1)\n",
    "\n",
    "    optimizer.zero_grad()\n",
    "    loss = criterion(reconstructed, target)\n",
    "    loss.backward()\n",
    "    optimizer.step()\n",
    "\n",
    "\n",
    "    \n",
    "    total_loss += loss\n",
    "    progress_bar.set_description_str(\"Batch: %d, Loss: %.4f\" % ((batch_idx + 1), loss.item()))\n",
    "\n",
    "    \n",
    "    # print(reconstructed.shape)\n",
    "    \n",
    "\n",
    "    # break\n",
    "\n",
    "print(total_loss / len(train_loader))"
   ]
  },
  {
   "cell_type": "code",
   "execution_count": null,
   "metadata": {},
   "outputs": [],
   "source": []
  },
  {
   "cell_type": "code",
   "execution_count": null,
   "metadata": {},
   "outputs": [],
   "source": []
  },
  {
   "cell_type": "code",
   "execution_count": null,
   "metadata": {},
   "outputs": [],
   "source": []
  },
  {
   "cell_type": "code",
   "execution_count": null,
   "metadata": {},
   "outputs": [],
   "source": [
    "import tqdm\n",
    "\n",
    "def translate(model, dataloader):\n",
    "    # model.eval()\n",
    "    with torch.no_grad():\n",
    "        # Get the progress bar \n",
    "        print(\"Start\")\n",
    "        progress_bar = tqdm(dataloader.batches, ascii = True)\n",
    "        for batch_idx, data in enumerate(progress_bar):\n",
    "            print(batch_idx)\n",
    "            source = np.array([example['text'] for example in data])\n",
    "            # WORK!\n",
    "            #labels = np.array([example['labels'] for example in data])\n",
    "            print(source[0:9])\n",
    "            source_encoded = np.array([list(map(lambda x: english_vocabulary.vocab.stoi[x], source[i])) for i in range(source.shape[0])])\n",
    "            #print(f\"Source: {source}\")\n",
    "            print(f\"Source: {source.shape}\")\n",
    "            print(f\"Source: {source_encoded.shape}\")\n",
    "            #target = data.trg.transpose(1,0)\n",
    "            #print(source_encoded)\n",
    "            source_torch = torch.from_numpy(source_encoded).to(device)\n",
    "            print(source_torch)\n",
    "            translation = model(source_torch)\n",
    "            print(f\"Activation: {activation}\")\n",
    "            activation_output = activation['norm_mh2']\n",
    "            h1.remove()\n",
    "            return translation, activation_output\n",
    "\n",
    "translate(None, train_loader)"
   ]
  },
  {
   "cell_type": "code",
   "execution_count": null,
   "metadata": {},
   "outputs": [],
   "source": []
  },
  {
   "cell_type": "code",
   "execution_count": null,
   "metadata": {},
   "outputs": [],
   "source": []
  },
  {
   "cell_type": "code",
   "execution_count": null,
   "metadata": {},
   "outputs": [],
   "source": []
  },
  {
   "cell_type": "code",
   "execution_count": null,
   "metadata": {},
   "outputs": [],
   "source": []
  },
  {
   "cell_type": "code",
   "execution_count": null,
   "metadata": {},
   "outputs": [],
   "source": []
  },
  {
   "cell_type": "code",
   "execution_count": null,
   "metadata": {},
   "outputs": [],
   "source": []
  },
  {
   "cell_type": "code",
   "execution_count": null,
   "metadata": {},
   "outputs": [],
   "source": []
  },
  {
   "cell_type": "code",
   "execution_count": null,
   "metadata": {},
   "outputs": [],
   "source": []
  },
  {
   "cell_type": "code",
   "execution_count": null,
   "metadata": {},
   "outputs": [],
   "source": []
  },
  {
   "cell_type": "code",
   "execution_count": null,
   "metadata": {},
   "outputs": [],
   "source": []
  },
  {
   "cell_type": "code",
   "execution_count": null,
   "metadata": {},
   "outputs": [],
   "source": []
  },
  {
   "cell_type": "code",
   "execution_count": null,
   "metadata": {},
   "outputs": [],
   "source": [
    "with open('data/baseline_data_for_cluster.p', 'rb') as infile:\n",
    "    baseline = pickle.load(infile)\n",
    "\n",
    "baseline"
   ]
  },
  {
   "cell_type": "code",
   "execution_count": null,
   "metadata": {},
   "outputs": [],
   "source": []
  },
  {
   "cell_type": "code",
   "execution_count": null,
   "metadata": {},
   "outputs": [],
   "source": []
  },
  {
   "cell_type": "code",
   "execution_count": null,
   "metadata": {},
   "outputs": [],
   "source": []
  },
  {
   "cell_type": "code",
   "execution_count": null,
   "metadata": {},
   "outputs": [],
   "source": [
    "import os\n",
    "\n",
    "\n",
    "\n",
    "pos_dir = './data/aclImdb/train/pos'\n",
    "neg_dir = './data/aclImdb/train/neg'\n",
    "\n",
    "train_df = pd.DataFrame(\n",
    "    [['train'] + f[:-4].split('_') + ['pos'] + open(f'{pos_dir}/{f}').readlines() for f in os.listdir(pos_dir)] +\n",
    "    [['train'] + f[:-4].split('_') + ['neg'] + open(f'{neg_dir}/{f}').readlines() for f in os.listdir(neg_dir)],\n",
    "    columns=['type', 'id', 'score', 'label', 'review']\n",
    ") \\\n",
    ".astype({\n",
    "    'id': int,\n",
    "    'score': int,\n",
    "    'label': str,\n",
    "    'review': str\n",
    "})\n",
    "\n",
    "\n",
    "\n",
    "train_df.head()\n"
   ]
  },
  {
   "cell_type": "code",
   "execution_count": null,
   "metadata": {},
   "outputs": [],
   "source": [
    "train_df.shape"
   ]
  },
  {
   "cell_type": "code",
   "execution_count": null,
   "metadata": {},
   "outputs": [],
   "source": [
    "\n",
    "\n",
    "pos_dir = './data/aclImdb/test/pos'\n",
    "neg_dir = './data/aclImdb/test/neg'\n",
    "\n",
    "test_df = pd.DataFrame(\n",
    "    [['test'] + f[:-4].split('_') + ['pos'] + open(f'{pos_dir}/{f}').readlines() for f in os.listdir(pos_dir)] +\n",
    "    [['test'] + f[:-4].split('_') + ['neg'] + open(f'{neg_dir}/{f}').readlines() for f in os.listdir(neg_dir)],\n",
    "    columns=['type', 'id', 'score', 'label', 'review']\n",
    ") \\\n",
    ".astype({\n",
    "    'id': int,\n",
    "    'score': int,\n",
    "    'label': str,\n",
    "    'review': str\n",
    "})\n",
    "\n",
    "\n",
    "\n",
    "test_df.head()"
   ]
  },
  {
   "cell_type": "code",
   "execution_count": null,
   "metadata": {},
   "outputs": [],
   "source": [
    "train_df.to_csv('./data/imdb_train.csv', index=False)\n",
    "test_df.to_csv('./data/imdb_test.csv', index=False)"
   ]
  },
  {
   "cell_type": "code",
   "execution_count": null,
   "metadata": {},
   "outputs": [],
   "source": []
  }
 ],
 "metadata": {
  "interpreter": {
   "hash": "b744d8340fd5014b91655b5325cd7d8561a3481b2d5aee5c6a03c061c7f1cc8c"
  },
  "kernelspec": {
   "display_name": "Python 3.9.7 ('cs7643-a4-new')",
   "language": "python",
   "name": "python3"
  },
  "language_info": {
   "codemirror_mode": {
    "name": "ipython",
    "version": 3
   },
   "file_extension": ".py",
   "mimetype": "text/x-python",
   "name": "python",
   "nbconvert_exporter": "python",
   "pygments_lexer": "ipython3",
   "version": "3.9.7"
  },
  "orig_nbformat": 4
 },
 "nbformat": 4,
 "nbformat_minor": 2
}
